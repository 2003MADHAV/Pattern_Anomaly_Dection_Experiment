{
  "nbformat": 4,
  "nbformat_minor": 0,
  "metadata": {
    "colab": {
      "provenance": [],
      "authorship_tag": "ABX9TyM8u4zT55Ac0jM6uLUnuCEE",
      "include_colab_link": true
    },
    "kernelspec": {
      "name": "python3",
      "display_name": "Python 3"
    },
    "language_info": {
      "name": "python"
    }
  },
  "cells": [
    {
      "cell_type": "markdown",
      "metadata": {
        "id": "view-in-github",
        "colab_type": "text"
      },
      "source": [
        "<a href=\"https://colab.research.google.com/github/2003MADHAV/Pattern_Anomaly_Dection_Experiment/blob/main/Z_score_outlier.ipynb\" target=\"_parent\"><img src=\"https://colab.research.google.com/assets/colab-badge.svg\" alt=\"Open In Colab\"/></a>"
      ]
    },
    {
      "cell_type": "code",
      "execution_count": null,
      "metadata": {
        "id": "_Pv3ToSZussB"
      },
      "outputs": [],
      "source": [
        "import numpy as np\n",
        "from scipy.stats import zscore\n",
        "\n",
        "# Example data (number of network packets per day)\n",
        "network_packets_per_day = [100, 120, 110, 105, 115, 90, 130, 95, 125, 115,2222,100, 120, 140, 100,230,456,123,555]"
      ]
    },
    {
      "cell_type": "code",
      "source": [
        "# Calculate Z-Scores\n",
        "z_scores = zscore(network_packets_per_day)\n",
        "\n",
        "# Set a threshold for identifying outliers (e.g., Z-Score > 2 or Z-Score < -2)\n",
        "threshold = 2\n",
        "outliers = np.where(np.abs(z_scores) > threshold)[0]\n",
        "\n",
        "# Display the outliers\n",
        "print(\"Outliers detected at indices:\", outliers)\n",
        "print(\"Outlier values:\", np.array(network_packets_per_day)[outliers])"
      ],
      "metadata": {
        "colab": {
          "base_uri": "https://localhost:8080/"
        },
        "id": "Bs_NqIsOu3X8",
        "outputId": "18f4b4a0-4a93-4dd9-cb96-a8b5220f1f5b"
      },
      "execution_count": null,
      "outputs": [
        {
          "output_type": "stream",
          "name": "stdout",
          "text": [
            "Outliers detected at indices: [10]\n",
            "Outlier values: [2222]\n"
          ]
        }
      ]
    },
    {
      "cell_type": "code",
      "source": [],
      "metadata": {
        "id": "JunEzdyFu7Zx"
      },
      "execution_count": null,
      "outputs": []
    }
  ]
}